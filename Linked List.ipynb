{
 "cells": [
  {
   "cell_type": "code",
   "execution_count": 102,
   "id": "eca4b9c8",
   "metadata": {},
   "outputs": [],
   "source": [
    "class sll:\n",
    "    def __init__(self):\n",
    "        self.head = None\n",
    "    \n",
    "    def traverse(self):\n",
    "        ele = self.head\n",
    "        while ele is not None:\n",
    "            print(ele.data)\n",
    "            ele = ele.address\n",
    "            \n",
    "    def delete(self,item):\n",
    "        \n",
    "        headval = self.head\n",
    "        \n",
    "        if headval == None:\n",
    "            print('List is empty')\n",
    "            return\n",
    "        else:\n",
    "            if headval.data == item:\n",
    "                self.head = headval.address\n",
    "                return\n",
    "            else:\n",
    "                \n",
    "                while headval is not None:\n",
    "                    if headval == item:\n",
    "                        break\n",
    "                    prev = headval\n",
    "                    headval = headval.address\n",
    "                    \n",
    "                if headval == None:\n",
    "                    return\n",
    "                    \n",
    "                prev.address = headval.address\n",
    "                headval = None\n",
    "                \n",
    "        self.traverse()\n",
    "                "
   ]
  },
  {
   "cell_type": "code",
   "execution_count": 103,
   "id": "6985a98f",
   "metadata": {},
   "outputs": [],
   "source": [
    "class node:\n",
    "    def __init__(self,data):\n",
    "        self.data = data\n",
    "        self.address = None"
   ]
  },
  {
   "cell_type": "code",
   "execution_count": 111,
   "id": "224afb6a",
   "metadata": {},
   "outputs": [],
   "source": [
    "sll_1 = sll()\n",
    "sll_1.head = node1"
   ]
  },
  {
   "cell_type": "code",
   "execution_count": 112,
   "id": "d53f14ec",
   "metadata": {},
   "outputs": [],
   "source": [
    "node1 = node('Monday')\n",
    "node2 = node('Tuesday')\n",
    "node3 = node('Wednesday')\n",
    "node4 = node('Thursday')\n",
    "node5 = node('Friday')\n",
    "node6 = node('Saturday')\n",
    "node7 = node ('Funday')"
   ]
  },
  {
   "cell_type": "code",
   "execution_count": 113,
   "id": "4b53f07a",
   "metadata": {},
   "outputs": [],
   "source": [
    "node2.address = node3\n",
    "node3.address = node4\n",
    "node4.address = node5\n",
    "node6.address = node7"
   ]
  },
  {
   "cell_type": "code",
   "execution_count": 114,
   "id": "df174bad",
   "metadata": {},
   "outputs": [],
   "source": [
    "sll_1.head.address = node2"
   ]
  },
  {
   "cell_type": "code",
   "execution_count": 115,
   "id": "88c2432d",
   "metadata": {},
   "outputs": [
    {
     "name": "stdout",
     "output_type": "stream",
     "text": [
      "Monday\n",
      "Tuesday\n",
      "Wednesday\n",
      "Thursday\n",
      "Friday\n"
     ]
    }
   ],
   "source": [
    "sll_1.traverse()"
   ]
  },
  {
   "cell_type": "code",
   "execution_count": 109,
   "id": "2da7f407",
   "metadata": {},
   "outputs": [],
   "source": [
    "sll_1.delete('Tuesday')"
   ]
  },
  {
   "cell_type": "code",
   "execution_count": 110,
   "id": "f712fec1",
   "metadata": {},
   "outputs": [
    {
     "name": "stdout",
     "output_type": "stream",
     "text": [
      "Monday\n",
      "Tuesday\n",
      "Wednesday\n",
      "Thursday\n",
      "Friday\n"
     ]
    }
   ],
   "source": [
    "sll_1.traverse()"
   ]
  },
  {
   "cell_type": "code",
   "execution_count": null,
   "id": "34d163af",
   "metadata": {},
   "outputs": [],
   "source": []
  }
 ],
 "metadata": {
  "kernelspec": {
   "display_name": "Python 3",
   "language": "python",
   "name": "python3"
  },
  "language_info": {
   "codemirror_mode": {
    "name": "ipython",
    "version": 3
   },
   "file_extension": ".py",
   "mimetype": "text/x-python",
   "name": "python",
   "nbconvert_exporter": "python",
   "pygments_lexer": "ipython3",
   "version": "3.8.10"
  }
 },
 "nbformat": 4,
 "nbformat_minor": 5
}
