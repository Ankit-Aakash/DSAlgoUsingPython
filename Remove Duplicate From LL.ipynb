{
 "cells": [
  {
   "cell_type": "code",
   "execution_count": 113,
   "id": "036e3965",
   "metadata": {},
   "outputs": [],
   "source": [
    "class SLL:\n",
    "    iteminsll = []\n",
    "    duplicateitem = []\n",
    "    def __init__(self):\n",
    "        self.head = None\n",
    "    \n",
    "    def addtoSLL(self,data):\n",
    "        \n",
    "        if data in self.iteminsll:\n",
    "            self.duplicateitem.append(data)\n",
    "        \n",
    "        self.iteminsll.append(data)\n",
    "        \n",
    "        nodetoinsert = Node(data)\n",
    "        nodetoinsert.address = None\n",
    "        \n",
    "        if self.head == None:\n",
    "            #Create Head Node\n",
    "            self.head = nodetoinsert\n",
    "        else:\n",
    "            \n",
    "            currentnode = self.head\n",
    "            \n",
    "            while currentnode.address != None:\n",
    "                currentnode = currentnode.address\n",
    "            #Add the element to the end of list\n",
    "            currentnode.address = nodetoinsert\n",
    "            \n",
    "    def iterate(self):\n",
    "        \n",
    "        if self.head == None:\n",
    "            print('Empty Linked List')\n",
    "            return\n",
    "        \n",
    "        currentnode = self.head\n",
    "        \n",
    "        while currentnode != None:\n",
    "            print(currentnode.data)\n",
    "            currentnode = currentnode.address\n",
    "            \n",
    "    def deletefromLL(self,data):\n",
    "        \n",
    "        currentnode = self.head\n",
    "        prevnode = currentnode\n",
    "        \n",
    "        if currentnode == None:\n",
    "            print('Empty Linked List')\n",
    "            \n",
    "        elif currentnode.data == data:\n",
    "            self.head = None\n",
    "            \n",
    "        else:\n",
    "            \n",
    "            while currentnode.address != None and currentnode.data != data:\n",
    "                \n",
    "                prevnode = currentnode\n",
    "                currentnode = currentnode.address\n",
    "            \n",
    "            if currentnode.address == None and currentnode.data != data:\n",
    "                print('Node not present')\n",
    "            \n",
    "            elif currentnode.address == None and currentnode.data == data:\n",
    "                prevnode.address = None\n",
    "                \n",
    "            else:\n",
    "                \n",
    "                prevnode.address = currentnode.address\n",
    "                \n",
    "            \n",
    "            "
   ]
  },
  {
   "cell_type": "code",
   "execution_count": 114,
   "id": "8864a03f",
   "metadata": {},
   "outputs": [],
   "source": [
    "class Node:\n",
    "    def __init__(self,data):\n",
    "        self.data = data\n",
    "        self.address = None"
   ]
  },
  {
   "cell_type": "code",
   "execution_count": 115,
   "id": "5dc228f6",
   "metadata": {},
   "outputs": [],
   "source": [
    "list1 = SLL()"
   ]
  },
  {
   "cell_type": "code",
   "execution_count": 116,
   "id": "71a145d3",
   "metadata": {},
   "outputs": [
    {
     "name": "stdout",
     "output_type": "stream",
     "text": [
      "1\n",
      "1\n",
      "2\n",
      "3\n",
      "2\n"
     ]
    },
    {
     "data": {
      "text/plain": [
       "[1, 2]"
      ]
     },
     "execution_count": 116,
     "metadata": {},
     "output_type": "execute_result"
    }
   ],
   "source": [
    "list1.addtoSLL(1)\n",
    "list1.addtoSLL(1)\n",
    "list1.addtoSLL(2)\n",
    "list1.addtoSLL(3)\n",
    "list1.addtoSLL(2)\n",
    "list1.iterate()\n",
    "list1.duplicateitem"
   ]
  },
  {
   "cell_type": "code",
   "execution_count": 118,
   "id": "cb0d1166",
   "metadata": {},
   "outputs": [
    {
     "name": "stdout",
     "output_type": "stream",
     "text": [
      "Enter item to delete1\n",
      "Empty Linked List\n"
     ]
    }
   ],
   "source": [
    "itemtodelete = int(input('Enter item to delete'))\n",
    "\n",
    "if itemtodelete in list1.duplicateitem:\n",
    "    list1.deletefromLL(itemtodelete)\n",
    "else:\n",
    "    print('Duplicate item not present')"
   ]
  }
 ],
 "metadata": {
  "kernelspec": {
   "display_name": "Python 3",
   "language": "python",
   "name": "python3"
  },
  "language_info": {
   "codemirror_mode": {
    "name": "ipython",
    "version": 3
   },
   "file_extension": ".py",
   "mimetype": "text/x-python",
   "name": "python",
   "nbconvert_exporter": "python",
   "pygments_lexer": "ipython3",
   "version": "3.8.10"
  }
 },
 "nbformat": 4,
 "nbformat_minor": 5
}
