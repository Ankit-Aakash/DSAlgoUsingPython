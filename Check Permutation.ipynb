{
 "cells": [
  {
   "cell_type": "markdown",
   "id": "914d22cc",
   "metadata": {},
   "source": [
    "# Given two strings, write a method to decide whether one is permutation of the other."
   ]
  },
  {
   "cell_type": "code",
   "execution_count": 26,
   "id": "d96a7dd0",
   "metadata": {},
   "outputs": [
    {
     "name": "stdout",
     "output_type": "stream",
     "text": [
      "Enter two strings: Data Structures\n"
     ]
    }
   ],
   "source": [
    "string1,string2 = [string for string in input('Enter two strings ').split()]"
   ]
  },
  {
   "cell_type": "code",
   "execution_count": 27,
   "id": "d450351f",
   "metadata": {},
   "outputs": [],
   "source": [
    "def CheckPermutation(string1,string2):\n",
    "    if string1.lower() == string2[::-1].lower():\n",
    "        print('Strings are in permutation')\n",
    "    else:\n",
    "        print('Strings are not in permutation')\n",
    "    "
   ]
  },
  {
   "cell_type": "code",
   "execution_count": 28,
   "id": "1037fff9",
   "metadata": {},
   "outputs": [
    {
     "name": "stdout",
     "output_type": "stream",
     "text": [
      "Strings are not in permutation\n"
     ]
    }
   ],
   "source": [
    "CheckPermutation(string1,string2)"
   ]
  },
  {
   "cell_type": "code",
   "execution_count": null,
   "id": "f240e22c",
   "metadata": {},
   "outputs": [],
   "source": []
  }
 ],
 "metadata": {
  "kernelspec": {
   "display_name": "Python 3",
   "language": "python",
   "name": "python3"
  },
  "language_info": {
   "codemirror_mode": {
    "name": "ipython",
    "version": 3
   },
   "file_extension": ".py",
   "mimetype": "text/x-python",
   "name": "python",
   "nbconvert_exporter": "python",
   "pygments_lexer": "ipython3",
   "version": "3.8.10"
  }
 },
 "nbformat": 4,
 "nbformat_minor": 5
}
