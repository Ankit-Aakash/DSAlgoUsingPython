{
 "cells": [
  {
   "cell_type": "markdown",
   "id": "b17ce28f",
   "metadata": {},
   "source": [
    "# Roman to Integer"
   ]
  },
  {
   "cell_type": "markdown",
   "id": "cc7b4dd9",
   "metadata": {},
   "source": [
    "The key intuition lies in the fact that in Roman numerals, when a smaller value appears before a larger value, it represents subtraction, while when a smaller value appears after or equal to a larger value, it represents addition."
   ]
  },
  {
   "cell_type": "code",
   "execution_count": 15,
   "id": "e9717d73",
   "metadata": {},
   "outputs": [],
   "source": [
    "def RomanToInteger (romannumber: str) -> int:\n",
    "    romannumberdictionary = {\n",
    "                             'i':1,\n",
    "                             'v':5,\n",
    "                             'x':10,\n",
    "                             'l':50,\n",
    "                             'c':100,\n",
    "                             'd':500,\n",
    "                             'm':1000\n",
    "                            }\n",
    "    num = 0\n",
    "    for i in range(0,len(romannumber)):\n",
    "        if i < len(romannumber)-1 and romannumberdictionary[romannumber[i]] < romannumberdictionary[romannumber[i+1]]:\n",
    "            num -= romannumberdictionary[romannumber[i]]\n",
    "        else:\n",
    "            num += romannumberdictionary[romannumber[i]]\n",
    "            \n",
    "    return num"
   ]
  },
  {
   "cell_type": "code",
   "execution_count": 18,
   "id": "c9066b8a",
   "metadata": {},
   "outputs": [
    {
     "data": {
      "text/plain": [
       "1006"
      ]
     },
     "execution_count": 18,
     "metadata": {},
     "output_type": "execute_result"
    }
   ],
   "source": [
    "RomanToInteger('mvi')"
   ]
  },
  {
   "cell_type": "code",
   "execution_count": null,
   "id": "13c2dbbe",
   "metadata": {},
   "outputs": [],
   "source": []
  }
 ],
 "metadata": {
  "kernelspec": {
   "display_name": "Python 3",
   "language": "python",
   "name": "python3"
  },
  "language_info": {
   "codemirror_mode": {
    "name": "ipython",
    "version": 3
   },
   "file_extension": ".py",
   "mimetype": "text/x-python",
   "name": "python",
   "nbconvert_exporter": "python",
   "pygments_lexer": "ipython3",
   "version": "3.8.10"
  }
 },
 "nbformat": 4,
 "nbformat_minor": 5
}
