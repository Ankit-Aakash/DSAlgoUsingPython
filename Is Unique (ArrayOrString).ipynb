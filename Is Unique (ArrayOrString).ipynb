{
 "cells": [
  {
   "cell_type": "markdown",
   "id": "4c2b7470",
   "metadata": {},
   "source": [
    "# Ques. Implement an algorithm to determine if a string has all unique character. You are not allowed to use any other data structure."
   ]
  },
  {
   "cell_type": "code",
   "execution_count": 1,
   "id": "92f4a4a6",
   "metadata": {},
   "outputs": [],
   "source": [
    "def FindDuplicateCharcters():\n",
    "    sorted_input_string = ''.join(sorted(input('Enter a string: ')))\n",
    "    flag = 0\n",
    "    for char_index in range(0,len(sorted_input_string)-1):\n",
    "        if sorted_input_string[char_index] != ' ' and  sorted_input_string[char_index] == sorted_input_string[char_index+1]:\n",
    "            flag = 1\n",
    "    if flag == 0:\n",
    "        print('All the characters are unique')\n",
    "    else:\n",
    "        print('Characters are duplicated')"
   ]
  },
  {
   "cell_type": "code",
   "execution_count": 2,
   "id": "41409a9d",
   "metadata": {},
   "outputs": [
    {
     "name": "stdout",
     "output_type": "stream",
     "text": [
      "Enter a string: ankit aakash hero orange empty yak kite enemy yeast toy\n",
      "Characters are duplicated\n"
     ]
    }
   ],
   "source": [
    "FindDuplicateCharcters()"
   ]
  },
  {
   "cell_type": "code",
   "execution_count": 10,
   "id": "fe8ef1cf",
   "metadata": {},
   "outputs": [
    {
     "name": "stdout",
     "output_type": "stream",
     "text": [
      "cba\n",
      "cba\n",
      "joined_string: abc\n",
      "string: ['a', 'b', 'c']\n"
     ]
    }
   ],
   "source": [
    "string = sorted(input())\n",
    "joined_string = ''.join(sorted(input()))\n",
    "print('joined_string: {}'.format(joined_string))\n",
    "print('string: {}'.format(string))"
   ]
  },
  {
   "cell_type": "code",
   "execution_count": null,
   "id": "7c4d89b3",
   "metadata": {},
   "outputs": [],
   "source": []
  }
 ],
 "metadata": {
  "kernelspec": {
   "display_name": "Python 3",
   "language": "python",
   "name": "python3"
  },
  "language_info": {
   "codemirror_mode": {
    "name": "ipython",
    "version": 3
   },
   "file_extension": ".py",
   "mimetype": "text/x-python",
   "name": "python",
   "nbconvert_exporter": "python",
   "pygments_lexer": "ipython3",
   "version": "3.8.10"
  }
 },
 "nbformat": 4,
 "nbformat_minor": 5
}
