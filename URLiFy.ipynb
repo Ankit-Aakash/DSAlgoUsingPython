{
 "cells": [
  {
   "cell_type": "markdown",
   "id": "4cafb048",
   "metadata": {},
   "source": [
    "# In a given string replace all the blank spaces to '%20'"
   ]
  },
  {
   "cell_type": "code",
   "execution_count": 18,
   "id": "b699b499",
   "metadata": {},
   "outputs": [],
   "source": [
    "def urlify():\n",
    "    input_string = input('Enter a statement: ')\n",
    "    print(input_string.replace(' ','%20'))"
   ]
  },
  {
   "cell_type": "code",
   "execution_count": 19,
   "id": "f3ef118a",
   "metadata": {},
   "outputs": [
    {
     "name": "stdout",
     "output_type": "stream",
     "text": [
      "Enter a statement: My name is ANkit Aakash\n",
      "My%20name%20is%20ANkit%20Aakash\n"
     ]
    }
   ],
   "source": [
    "urlify()"
   ]
  },
  {
   "cell_type": "code",
   "execution_count": null,
   "id": "ab41b04b",
   "metadata": {},
   "outputs": [],
   "source": []
  }
 ],
 "metadata": {
  "kernelspec": {
   "display_name": "Python 3",
   "language": "python",
   "name": "python3"
  },
  "language_info": {
   "codemirror_mode": {
    "name": "ipython",
    "version": 3
   },
   "file_extension": ".py",
   "mimetype": "text/x-python",
   "name": "python",
   "nbconvert_exporter": "python",
   "pygments_lexer": "ipython3",
   "version": "3.8.5"
  }
 },
 "nbformat": 4,
 "nbformat_minor": 5
}
